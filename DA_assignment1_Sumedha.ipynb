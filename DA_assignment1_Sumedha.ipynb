{
 "cells": [
  {
   "cell_type": "markdown",
   "metadata": {},
   "source": [
    " # <div align=\"center\">DATA ANALYTICS\n",
    "### <div align=\"center\">ASSIGNMENT - 1\n",
    "### <div align=\"center\">LINEAR REGRESSION AND LOGISTIC REGRESSION\n",
    "\n",

  {
   "cell_type": "code",
   "execution_count": 1,
   "metadata": {},
   "outputs": [],
   "source": [
    "## IMPORTING LIBRARIES\n",
    "\n",
    "import numpy as np\n",
    "import pandas as pd\n",
    "from sklearn import preprocessing"
   ]
  },
  {
   "cell_type": "code",
   "execution_count": 2,
   "metadata": {},
   "outputs": [],
   "source": [
    "## READING DATA AND PRE-PROCESSING IT\n",
    "df = pd.read_csv(\"/Users/sumedha/Desktop/dataset.csv\")\n",
    "X = df.iloc[:, 1:].values\n",
    "Y = df.iloc[:, 0].values"
   ]
  },
  {
   "cell_type": "code",
   "execution_count": null,
   "metadata": {},
   "outputs": [],
   "source": []
  },
  {
   "cell_type": "code",
   "execution_count": 3,
   "metadata": {},
   "outputs": [],
   "source": [
    "## DEFINING LOGISTIC REGRESSION\n",
    "from sklearn.linear_model import LogisticRegression\n",
    "clf = LogisticRegression()"
   ]
  },
  {
   "cell_type": "code",
   "execution_count": 4,
   "metadata": {},
   "outputs": [],
   "source": [
    "## DIVIDING DATASET INTO TRAINING AND TEST SET\n",
    "from sklearn.model_selection import train_test_split\n",
    "X_train,X_test,Y_train,Y_test = train_test_split(X,Y,test_size=0.20)"
   ]
  },
  {
   "cell_type": "code",
   "execution_count": 5,
   "metadata": {},
   "outputs": [
    {
     "name": "stderr",
     "output_type": "stream",
     "text": [
      "/opt/anaconda3/lib/python3.7/site-packages/sklearn/linear_model/logistic.py:432: FutureWarning: Default solver will be changed to 'lbfgs' in 0.22. Specify a solver to silence this warning.\n",
      "  FutureWarning)\n"
     ]
    },
    {
     "data": {
      "text/plain": [
       "LogisticRegression(C=1.0, class_weight=None, dual=False, fit_intercept=True,\n",
       "                   intercept_scaling=1, l1_ratio=None, max_iter=100,\n",
       "                   multi_class='warn', n_jobs=None, penalty='l2',\n",
       "                   random_state=None, solver='warn', tol=0.0001, verbose=0,\n",
       "                   warm_start=False)"
      ]
     },
     "execution_count": 5,
     "metadata": {},
     "output_type": "execute_result"
    }
   ],
   "source": [
    "## FITTING THE LOGISTIC REGRESSION\n",
    "clf.fit(X_train,Y_train)"
   ]
  },
  {
   "cell_type": "code",
   "execution_count": 6,
   "metadata": {},
   "outputs": [],
   "source": [
    "## MAKING PREDICTIONS \n",
    "predictions = clf.predict(X_test)"
   ]
  },
  {
   "cell_type": "code",
   "execution_count": 7,
   "metadata": {},
   "outputs": [
    {
     "name": "stdout",
     "output_type": "stream",
     "text": [
      "Accuracy score with sklearn:  0.7625\n"
     ]
    }
   ],
   "source": [
    "## CALCULATING THE ACURACY SCORE\n",
    "from sklearn.metrics import accuracy_score\n",
    "print('Accuracy score with sklearn: ', format(accuracy_score(Y_test, predictions)))"
   ]
  },
  {
   "cell_type": "code",
   "execution_count": 8,
   "metadata": {},
   "outputs": [
    {
     "data": {
      "text/plain": [
       "<Figure size 640x480 with 1 Axes>"
      ]
     },
     "metadata": {},
     "output_type": "display_data"
    }
   ],
   "source": [
    "## PLOTTING THE DATA\n",
    "from numpy import where\n",
    "from pylab import scatter, show, legend, xlabel, ylabel\n",
    "one = np.where(Y == 1)\n",
    "zero = np.where(Y == 0)\n",
    "scatter(X[one, 0], X[one, 1], marker='o', c='b')\n",
    "scatter(X[zero, 0], X[zero, 1], marker='x', c='r')\n",
    "xlabel('GRE score')\n",
    "ylabel('Rank')\n",
    "legend(['Not Admitted', 'Admitted'])\n",
    "show()"
   ]
  },
  {
   "cell_type": "markdown",
   "metadata": {},
   "source": [
    "### **<div align=\"center\">LOGISTIC REGRESSION USING PYTHON**"
   ]
  },
  {
   "cell_type": "code",
   "execution_count": 9,
   "metadata": {},
   "outputs": [],
   "source": [
    "## DEFINING INITIAL VARIABLES\n",
    "theta_init = [1,1]\n",
    "alpha = 0.01\n",
    "iterations = 10"
   ]
  },
  {
   "cell_type": "code",
   "execution_count": 10,
   "metadata": {},
   "outputs": [],
   "source": [
    "## DEFINING SIGMOID FUNCTION\n",
    "def sigmoid_fun(f):\n",
    "    sig = 1 / (1 + np.exp(-1*f))\n",
    "    return sig"
   ]
  },
  {
   "cell_type": "code",
   "execution_count": 11,
   "metadata": {},
   "outputs": [],
   "source": [
    "## DEFINING HYPOTHESIS FUNCTION\n",
    "def hypothesis(theta, x):\n",
    "    f = 0\n",
    "    for i in range(len(theta)):\n",
    "        f = f+(x[i]*theta[i])\n",
    "    return sigmoid_fun(f)"
   ]
  },
  {
   "cell_type": "code",
   "execution_count": 12,
   "metadata": {},
   "outputs": [],
   "source": [
    "## DEFINING COST FUNCTION\n",
    "def cost_function(X,Y,theta,m):\n",
    "    error_sum = 0\n",
    "    for i in range(m):\n",
    "        xi = X[i]\n",
    "        hi = hypothesis(theta,xi)\n",
    "        if Y[i] == 1:\n",
    "            error = Y[i] * np.log(hi)\n",
    "        elif Y[i] == 0:\n",
    "            error = (1-Y[i]) * np.log(1-hi)\n",
    "        error_sum += error\n",
    "    const = -1/m\n",
    "    J = const * error_sum\n",
    "    return J"
   ]
  },
  {
   "cell_type": "code",
   "execution_count": 13,
   "metadata": {},
   "outputs": [],
   "source": [
    "## CALCULATING DERIVATIVE OF COST FUNCTION\n",
    "def der_j(X,Y,theta,j,m,alpha):\n",
    "    error_sum_der = 0\n",
    "    for i in range(m):\n",
    "        xi = X[i]\n",
    "        xij = xi[j]\n",
    "        hi = hypothesis(theta,X[i])\n",
    "        error = (hi - Y[i])*xij\n",
    "        error_sum_der = error_sum_der+error\n",
    "    m = len(Y)\n",
    "    c = alpha/m\n",
    "    J = c*error_sum_der\n",
    "    return J"
   ]
  },
  {
   "cell_type": "code",
   "execution_count": 14,
   "metadata": {},
   "outputs": [],
   "source": [
    "## DEFINING GRADIENT DESCENT\n",
    "def gradient_descent(X,Y,theta,m,alpha):\n",
    "    theta_new = []\n",
    "    constant = alpha/m\n",
    "    for j in range(len(theta)):\n",
    "        CFDerivative = der_j(X,Y,theta,j,m,alpha)\n",
    "        new_theta_value = theta[j] - CFDerivative\n",
    "        theta_new.append(new_theta_value)\n",
    "    return theta_new"
   ]
  },
  {
   "cell_type": "code",
   "execution_count": 15,
   "metadata": {},
   "outputs": [],
   "source": [
    "## DEFINING LOGISTIC REGRESSION\n",
    "def logistic_regression(X,Y,alpha,theta,num_iters):\n",
    "    m = len(Y)\n",
    "    for x in range(num_iters):\n",
    "        theta_new = gradient_descent(X,Y,theta,m,alpha)\n",
    "        theta = theta_new\n",
    "        if x % 100 == 0:\n",
    "            cost_function(X,Y,theta,m)"
   ]
  },
  {
   "cell_type": "code",
   "execution_count": 16,
   "metadata": {},
   "outputs": [
    {
     "name": "stdout",
     "output_type": "stream",
     "text": [
      "Accuracy score with python:  0.2875\n"
     ]
    }
   ],
   "source": [
    "score = 0\n",
    "length = len(X_test)\n",
    "for i in range(length):\n",
    "    prediction = round(hypothesis(theta_init, X_test[i]))\n",
    "    answer = Y_test[i]\n",
    "    if prediction == answer:\n",
    "        score += 1\n",
    "accuracy_score_py = score/length\n",
    "print('Accuracy score with python: ', format(accuracy_score_py))"
   ]
  },
  {
   "cell_type": "code",
   "execution_count": 17,
   "metadata": {},
   "outputs": [
    {
     "name": "stderr",
     "output_type": "stream",
     "text": [
      "/opt/anaconda3/lib/python3.7/site-packages/ipykernel_launcher.py:3: RuntimeWarning: overflow encountered in exp\n",
      "  This is separate from the ipykernel package so we can avoid doing imports until\n",
      "/opt/anaconda3/lib/python3.7/site-packages/ipykernel_launcher.py:8: RuntimeWarning: divide by zero encountered in log\n",
      "  \n"
     ]
    }
   ],
   "source": [
    "logistic_regression(X,Y,alpha,theta_init,iterations)"
   ]
  },
  {
   "cell_type": "markdown",
   "metadata": {},
   "source": [
    "### **COMPARISION OF LOGISTIC REGRESSION USING SKLEARN AND LOGISTIC REGRESSION USING PYTHON:**\n",
    "1. While implementing Logistic Regression using pyhon we have to initialize some parameters and adjust them in such a way that we obtain optimum accuracy, these parameters are automatically initialized while implementing through sklearn\n",
    "2. Accuracy using sklearn (0.65) is much more than accuracy using Python(.4)"
   ]
  },
  {
   "cell_type": "markdown",
   "metadata": {},
   "source": [
    "### **<div align=\"center\">LINEAR REGRESSION USING SKLEARN**\n",
    "    Link for dataset: https://drive.google.com/file/d/1DsVviPI0M9Iw7dgB71Fw684oTujDxckp/view?usp=sharing"
   ]
  },
  {
   "cell_type": "code",
   "execution_count": 18,
   "metadata": {},
   "outputs": [],
   "source": [
    "## READING DATA AND PRE-PROCESSING IT\n",
    "df2 = pd.read_csv('/Users/sumedha/Desktop/dataset2.csv')\n",
    "X = df2.iloc[:,2].values\n",
    "Y = df2.iloc[:,3].values"
   ]
  },
  {
   "cell_type": "code",
   "execution_count": 19,
   "metadata": {},
   "outputs": [],
   "source": [
    "## DIVIDING DATASET INTO TRAINING AND TEST SET\n",
    "X_train,X_test,Y_train,Y_test = train_test_split(X,Y,test_size=0.20)"
   ]
  },
  {
   "cell_type": "code",
   "execution_count": 20,
   "metadata": {},
   "outputs": [],
   "source": [
    "## FITTING THE LINEAR REGRESSION\n",
    "from sklearn.linear_model import LinearRegression\n",
    "X_train = X_train.reshape((-1, 1))\n",
    "reg = LinearRegression()\n",
    "reg = reg.fit(X_train, Y_train)"
   ]
  },
  {
   "cell_type": "code",
   "execution_count": 21,
   "metadata": {},
   "outputs": [],
   "source": [
    "## PREDICTING USING THE LINEAR REGRESSION\n",
    "X_test = X_test.reshape((-1, 1))\n",
    "predictions = reg.predict(X_test)"
   ]
  },
  {
   "cell_type": "code",
   "execution_count": 22,
   "metadata": {},
   "outputs": [
    {
     "data": {
      "text/plain": [
       "0.6383796850961669"
      ]
     },
     "execution_count": 22,
     "metadata": {},
     "output_type": "execute_result"
    }
   ],
   "source": [
    "## CALCULATING THE R2 SCORE\n",
    "X = X.reshape((-1, 1))\n",
    "reg.score(X, Y)"
   ]
  },
  {
   "cell_type": "markdown",
   "metadata": {},
   "source": [
    "### **<div align=\"center\">LINEAR REGRESSION USING PYTHON**"
   ]
  },
  {
   "cell_type": "code",
   "execution_count": 23,
   "metadata": {},
   "outputs": [
    {
     "name": "stdout",
     "output_type": "stream",
     "text": [
      "Coefficients are [0.26342934],[325.57342105]\n"
     ]
    }
   ],
   "source": [
    "## CALCULATING COEFFICIENTS c0 and c1\n",
    "\n",
    "mean_in = np.mean(X)\n",
    "mean_out = np.mean(Y)\n",
    "num = 0\n",
    "dnm = 0\n",
    "for i in range(len(X)):\n",
    "    num = num+((X[i] - mean_in) * (Y[i] - mean_out))\n",
    "    dnm = dnm+((X[i] - mean_in) ** 2)\n",
    "c1 = num / dnm\n",
    "c0 = mean_out - (c1 * mean_in)\n",
    "\n",
    "print(\"Coefficients are {},{}\".format(c1, c0))\n"
   ]
  },
  {
   "cell_type": "code",
   "execution_count": 24,
   "metadata": {},
   "outputs": [
    {
     "name": "stdout",
     "output_type": "stream",
     "text": [
      "The R2 Score using Python is[0.63931172]\n"
     ]
    }
   ],
   "source": [
    "# CALCULATING PREDICTION AND THE R2 SCORE\n",
    "\n",
    "t = 0\n",
    "r = 0\n",
    "for i in range(len(X)):\n",
    "    prediction = c0 + c1 * X[i]\n",
    "    t = t+(Y[i] - mean_out) ** 2\n",
    "    r = r+(Y[i] - prediction) ** 2\n",
    "r2 = 1 - (r/t)\n",
    "print(\"The R2 Score using Python is{}\".format(r2))\n"
   ]
  },
  {
   "cell_type": "code",
   "execution_count": 25,
   "metadata": {},
   "outputs": [
    {
     "data": {
      "text/plain": [
       "Text(0, 0.5, 'Brain Weight')"
      ]
     },
     "execution_count": 25,
     "metadata": {},
     "output_type": "execute_result"
    },
    {
     "data": {
      "image/png": "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\n",
      "text/plain": [
       "<Figure size 432x288 with 1 Axes>"
      ]
     },
     "metadata": {
      "needs_background": "light"
     },
     "output_type": "display_data"
    }
   ],
   "source": [
    "## PLOTTING\n",
    "\n",
    "import matplotlib.pyplot as plt\n",
    "x = np.linspace(np.min(X), np.max(X))\n",
    "y = c0 + c1 * x\n",
    "plt.plot(x, y, color='b', label='Regression Line')\n",
    "plt.scatter(X, Y, c='r', label='Scatter Plot')\n",
    "plt.xlabel('Head Size')\n",
    "plt.ylabel('Brain Weight')"
   ]
  },
  {
   "cell_type": "markdown",
   "metadata": {},
   "source": [
    "### **COMPARISION OF LINEAR REGRESSION USING SKLEARN AND LINEAR REGRESSION USING PYTHON:**\n",
    "\n",
    "In both the cases we get the same R2 score, hence Simple Linear Regression works equally well for both the cases\n",
    "\n"
   ]
  },
  {
   "cell_type": "code",
   "execution_count": null,
   "metadata": {},
   "outputs": [],
   "source": []
  }
 ],
 "metadata": {
  "kernelspec": {
   "display_name": "Python 3",
   "language": "python",
   "name": "python3"
  },
  "language_info": {
   "codemirror_mode": {
    "name": "ipython",
    "version": 3
   },
   "file_extension": ".py",
   "mimetype": "text/x-python",
   "name": "python",
   "nbconvert_exporter": "python",
   "pygments_lexer": "ipython3",
   "version": "3.7.4"
  }
 },
 "nbformat": 4,
 "nbformat_minor": 2
}
