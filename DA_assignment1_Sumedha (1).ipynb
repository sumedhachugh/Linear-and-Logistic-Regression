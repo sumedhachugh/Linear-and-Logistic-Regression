{
  "nbformat": 4,
  "nbformat_minor": 0,
  "metadata": {
    "kernelspec": {
      "display_name": "Python 3",
      "language": "python",
      "name": "python3"
    },
    "language_info": {
      "codemirror_mode": {
        "name": "ipython",
        "version": 3
      },
      "file_extension": ".py",
      "mimetype": "text/x-python",
      "name": "python",
      "nbconvert_exporter": "python",
      "pygments_lexer": "ipython3",
      "version": "3.7.4"
    },
    "colab": {
      "name": "DA_assignment1_Sumedha.ipynb",
      "provenance": []
    }
  },
  "cells": [
    {
      "cell_type": "markdown",
      "metadata": {
        "id": "hm5kxYhOHogV"
      },
      "source": [
        " # <div align=\"center\">DATA ANALYTICS\n",
        "### <div align=\"center\">ASSIGNMENT - 1\n",
        "### <div align=\"center\">LINEAR REGRESSION AND LOGISTIC REGRESSION\n",
        "\n",
        "Submitted to: Asst. Proff. Rahul Thakur <div align=\"right\">Submitted by: Sumedha\n"
      ]
    },
    {
      "cell_type": "markdown",
      "metadata": {
        "id": "ILy9VzY8HogW"
      },
      "source": [
        "### **<div align=\"center\">LOGISTIC REGRESSION USING SKLEARN**\n",
        "    \n",
        "    Link for dataset: https://drive.google.com/file/d/1jkkeQjuDAgUwP3as2RIqpiG1t9kWzRIw/view?usp=sharing"
      ]
    },
    {
      "cell_type": "code",
      "metadata": {
        "id": "eXfWfJJgHogX"
      },
      "source": [
        "## IMPORTING LIBRARIES\n",
        "\n",
        "import numpy as np\n",
        "import pandas as pd\n",
        "from sklearn import preprocessing"
      ],
      "execution_count": null,
      "outputs": []
    },
    {
      "cell_type": "code",
      "metadata": {
        "id": "8uH5qCxFHoge"
      },
      "source": [
        "## READING DATA AND PRE-PROCESSING IT\n",
        "df = pd.read_csv(\"/Users/sumedha/Desktop/dataset.csv\")\n",
        "X = df.iloc[:, 1:].values\n",
        "Y = df.iloc[:, 0].values"
      ],
      "execution_count": null,
      "outputs": []
    },
    {
      "cell_type": "code",
      "metadata": {
        "id": "enziM6NJHogl"
      },
      "source": [
        ""
      ],
      "execution_count": null,
      "outputs": []
    },
    {
      "cell_type": "code",
      "metadata": {
        "id": "GT-5-m1eHogr"
      },
      "source": [
        "## DEFINING LOGISTIC REGRESSION\n",
        "from sklearn.linear_model import LogisticRegression\n",
        "clf = LogisticRegression()"
      ],
      "execution_count": null,
      "outputs": []
    },
    {
      "cell_type": "code",
      "metadata": {
        "id": "B1aSXqxSHogv"
      },
      "source": [
        "## DIVIDING DATASET INTO TRAINING AND TEST SET\n",
        "from sklearn.model_selection import train_test_split\n",
        "X_train,X_test,Y_train,Y_test = train_test_split(X,Y,test_size=0.20)"
      ],
      "execution_count": null,
      "outputs": []
    },
    {
      "cell_type": "code",
      "metadata": {
        "id": "7Kf-lmcmHog1",
        "outputId": "3e3e747c-b893-43d1-d80a-9dccbfe5d607"
      },
      "source": [
        "## FITTING THE LOGISTIC REGRESSION\n",
        "clf.fit(X_train,Y_train)"
      ],
      "execution_count": null,
      "outputs": [
        {
          "output_type": "stream",
          "text": [
            "/opt/anaconda3/lib/python3.7/site-packages/sklearn/linear_model/logistic.py:432: FutureWarning: Default solver will be changed to 'lbfgs' in 0.22. Specify a solver to silence this warning.\n",
            "  FutureWarning)\n"
          ],
          "name": "stderr"
        },
        {
          "output_type": "execute_result",
          "data": {
            "text/plain": [
              "LogisticRegression(C=1.0, class_weight=None, dual=False, fit_intercept=True,\n",
              "                   intercept_scaling=1, l1_ratio=None, max_iter=100,\n",
              "                   multi_class='warn', n_jobs=None, penalty='l2',\n",
              "                   random_state=None, solver='warn', tol=0.0001, verbose=0,\n",
              "                   warm_start=False)"
            ]
          },
          "metadata": {
            "tags": []
          },
          "execution_count": 30
        }
      ]
    },
    {
      "cell_type": "code",
      "metadata": {
        "id": "uKDyNnsRHog8"
      },
      "source": [
        "## MAKING PREDICTIONS \n",
        "predictions = clf.predict(X_test)"
      ],
      "execution_count": null,
      "outputs": []
    },
    {
      "cell_type": "code",
      "metadata": {
        "id": "JlEb_zPyHohB",
        "outputId": "5b918639-cc20-4a56-8750-c2f3d33e5098"
      },
      "source": [
        "## CALCULATING THE ACURACY SCORE\n",
        "from sklearn.metrics import accuracy_score\n",
        "print('Accuracy score with sklearn: ', format(accuracy_score(Y_test, predictions)))"
      ],
      "execution_count": null,
      "outputs": [
        {
          "output_type": "stream",
          "text": [
            "Accuracy score with sklearn:  0.7125\n"
          ],
          "name": "stdout"
        }
      ]
    },
    {
      "cell_type": "code",
      "metadata": {
        "id": "3R_w4wGCHohH",
        "outputId": "af8330c7-e746-4d00-df5a-6f19487c05e2"
      },
      "source": [
        "## PLOTTING THE DATA\n",
        "from numpy import where\n",
        "from pylab import scatter, show, legend, xlabel, ylabel\n",
        "one = np.where(Y == 1)\n",
        "zero = np.where(Y == 0)\n",
        "scatter(X[one, 0], X[one, 1], marker='o', c='b')\n",
        "scatter(X[zero, 0], X[zero, 1], marker='x', c='r')\n",
        "xlabel('GRE score')\n",
        "ylabel('Rank')\n",
        "legend(['Not Admitted', 'Admitted'])\n",
        "show()"
      ],
      "execution_count": null,
      "outputs": [
        {
          "output_type": "display_data",
          "data": {
            "image/png": "[encoded data removed]",
            "text/plain": [
              "<Figure size 432x288 with 1 Axes>"
            ]
          },
          "metadata": {
            "tags": [],
            "needs_background": "light"
          }
        }
      ]
    },
    {
      "cell_type": "markdown",
      "metadata": {
        "id": "8rszHFnrHohM"
      },
      "source": [
        "### **<div align=\"center\">LOGISTIC REGRESSION USING PYTHON**"
      ]
    },
    {
      "cell_type": "code",
      "metadata": {
        "id": "V7JQfpK9HohN"
      },
      "source": [
        "## DEFINING INITIAL VARIABLES\n",
        "theta_init = [1,1]\n",
        "alpha = 0.01\n",
        "iterations = 10"
      ],
      "execution_count": null,
      "outputs": []
    },
    {
      "cell_type": "code",
      "metadata": {
        "id": "LDLyqmcFHohS"
      },
      "source": [
        "## DEFINING SIGMOID FUNCTION\n",
        "def sigmoid_fun(f):\n",
        "    sig = 1 / (1 + np.exp(-1*f))\n",
        "    return sig"
      ],
      "execution_count": null,
      "outputs": []
    },
    {
      "cell_type": "code",
      "metadata": {
        "id": "JsGg-m0zHohY"
      },
      "source": [
        "## DEFINING HYPOTHESIS FUNCTION\n",
        "def hypothesis(theta, x):\n",
        "    f = 0\n",
        "    for i in range(len(theta)):\n",
        "        f = f+(x[i]*theta[i])\n",
        "    return sigmoid_fun(f)"
      ],
      "execution_count": null,
      "outputs": []
    },
    {
      "cell_type": "code",
      "metadata": {
        "id": "Z_1cR90AHohd"
      },
      "source": [
        "## DEFINING COST FUNCTION\n",
        "def cost_function(X,Y,theta,m):\n",
        "    error_sum = 0\n",
        "    for i in range(m):\n",
        "        xi = X[i]\n",
        "        hi = hypothesis(theta,xi)\n",
        "        if Y[i] == 1:\n",
        "            error = Y[i] * np.log(hi)\n",
        "        elif Y[i] == 0:\n",
        "            error = (1-Y[i]) * np.log(1-hi)\n",
        "        error_sum += error\n",
        "    const = -1/m\n",
        "    J = const * error_sum\n",
        "    return J"
      ],
      "execution_count": null,
      "outputs": []
    },
    {
      "cell_type": "code",
      "metadata": {
        "id": "uVzVT_x7Hohi"
      },
      "source": [
        "## CALCULATING DERIVATIVE OF COST FUNCTION\n",
        "def der_j(X,Y,theta,j,m,alpha):\n",
        "    error_sum_der = 0\n",
        "    for i in range(m):\n",
        "        xi = X[i]\n",
        "        xij = xi[j]\n",
        "        hi = hypothesis(theta,X[i])\n",
        "        error = (hi - Y[i])*xij\n",
        "        error_sum_der = error_sum_der+error\n",
        "    m = len(Y)\n",
        "    c = alpha/m\n",
        "    J = c*error_sum_der\n",
        "    return J"
      ],
      "execution_count": null,
      "outputs": []
    },
    {
      "cell_type": "code",
      "metadata": {
        "id": "mzwTF3i5Hohp"
      },
      "source": [
        "## DEFINING GRADIENT DESCENT\n",
        "def gradient_descent(X,Y,theta,m,alpha):\n",
        "    theta_new = []\n",
        "    constant = alpha/m\n",
        "    for j in range(len(theta)):\n",
        "        CFDerivative = der_j(X,Y,theta,j,m,alpha)\n",
        "        new_theta_value = theta[j] - CFDerivative\n",
        "        theta_new.append(new_theta_value)\n",
        "    return theta_new"
      ],
      "execution_count": null,
      "outputs": []
    },
    {
      "cell_type": "code",
      "metadata": {
        "id": "ffcCjHVvHoht"
      },
      "source": [
        "## DEFINING LOGISTIC REGRESSION\n",
        "def logistic_regression(X,Y,alpha,theta,num_iters):\n",
        "    m = len(Y)\n",
        "    for x in range(num_iters):\n",
        "        theta_new = gradient_descent(X,Y,theta,m,alpha)\n",
        "        theta = theta_new\n",
        "        if x % 100 == 0:\n",
        "            cost_function(X,Y,theta,m)"
      ],
      "execution_count": null,
      "outputs": []
    },
    {
      "cell_type": "code",
      "metadata": {
        "id": "Xrph8l4QHohw",
        "outputId": "64a79a16-80c8-4f77-d32b-7761d279bf4e"
      },
      "source": [
        "score = 0\n",
        "length = len(X_test)\n",
        "for i in range(length):\n",
        "    prediction = round(hypothesis(theta_init, X_test[i]))\n",
        "    answer = Y_test[i]\n",
        "    if prediction == answer:\n",
        "        score += 1\n",
        "accuracy_score_py = score/length\n",
        "print('Accuracy score with python: ', format(accuracy_score_py))"
      ],
      "execution_count": null,
      "outputs": [
        {
          "output_type": "stream",
          "text": [
            "Accuracy score with python:  0.3875\n"
          ],
          "name": "stdout"
        }
      ]
    },
    {
      "cell_type": "code",
      "metadata": {
        "id": "zrcwm6YnHohz",
        "outputId": "4dbd1a8c-7c32-43c3-cfcc-1cd45d3ef5f3"
      },
      "source": [
        "logistic_regression(X,Y,alpha,theta_init,iterations)"
      ],
      "execution_count": null,
      "outputs": [
        {
          "output_type": "stream",
          "text": [
            "/opt/anaconda3/lib/python3.7/site-packages/ipykernel_launcher.py:3: RuntimeWarning: overflow encountered in exp\n",
            "  This is separate from the ipykernel package so we can avoid doing imports until\n",
            "/opt/anaconda3/lib/python3.7/site-packages/ipykernel_launcher.py:8: RuntimeWarning: divide by zero encountered in log\n",
            "  \n"
          ],
          "name": "stderr"
        }
      ]
    },
    {
      "cell_type": "markdown",
      "metadata": {
        "id": "LUGG4nQ2Hoh3"
      },
      "source": [
        "### **COMPARISION OF LOGISTIC REGRESSION USING SKLEARN AND LOGISTIC REGRESSION USING PYTHON:**\n",
        "1. While implementing Logistic Regression using pyhon we have to initialize some parameters and adjust them in such a way that we obtain optimum accuracy, these parameters are automatically initialized while implementing through sklearn\n",
        "2. Accuracy using sklearn (0.65) is much more than accuracy using Python(.4)"
      ]
    },
    {
      "cell_type": "markdown",
      "metadata": {
        "id": "sXrv-TSgHoh4"
      },
      "source": [
        "### **<div align=\"center\">LINEAR REGRESSION USING SKLEARN**\n",
        "    Link for dataset: https://drive.google.com/file/d/1DsVviPI0M9Iw7dgB71Fw684oTujDxckp/view?usp=sharing"
      ]
    },
    {
      "cell_type": "code",
      "metadata": {
        "id": "p0cPKibEHoh5"
      },
      "source": [
        "## READING DATA AND PRE-PROCESSING IT\n",
        "df2 = pd.read_csv('/Users/sumedha/Desktop/dataset2.csv')\n",
        "X = df2.iloc[:,2].values\n",
        "Y = df2.iloc[:,3].values"
      ],
      "execution_count": null,
      "outputs": []
    },
    {
      "cell_type": "code",
      "metadata": {
        "id": "3xDonn4iHoh9"
      },
      "source": [
        "## DIVIDING DATASET INTO TRAINING AND TEST SET\n",
        "X_train,X_test,Y_train,Y_test = train_test_split(X,Y,test_size=0.20)"
      ],
      "execution_count": null,
      "outputs": []
    },
    {
      "cell_type": "code",
      "metadata": {
        "id": "I4IGvTrdHoiC"
      },
      "source": [
        "## FITTING THE LINEAR REGRESSION\n",
        "from sklearn.linear_model import LinearRegression\n",
        "X_train = X_train.reshape((-1, 1))\n",
        "reg = LinearRegression()\n",
        "reg = reg.fit(X_train, Y_train)"
      ],
      "execution_count": null,
      "outputs": []
    },
    {
      "cell_type": "code",
      "metadata": {
        "id": "8s9JYsBNHoiJ"
      },
      "source": [
        "## PREDICTING USING THE LINEAR REGRESSION\n",
        "X_test = X_test.reshape((-1, 1))\n",
        "predictions = reg.predict(X_test)"
      ],
      "execution_count": null,
      "outputs": []
    },
    {
      "cell_type": "code",
      "metadata": {
        "id": "nrMQzNCVHoiR",
        "outputId": "bb53863f-78fa-477c-b232-a355909ea12c"
      },
      "source": [
        "## CALCULATING THE R2 SCORE\n",
        "X = X.reshape((-1, 1))\n",
        "reg.score(X, Y)"
      ],
      "execution_count": null,
      "outputs": [
        {
          "output_type": "execute_result",
          "data": {
            "text/plain": [
              "0.6391614839782399"
            ]
          },
          "metadata": {
            "tags": []
          },
          "execution_count": 22
        }
      ]
    },
    {
      "cell_type": "markdown",
      "metadata": {
        "id": "_rYxtIUFHoiY"
      },
      "source": [
        "### **<div align=\"center\">LINEAR REGRESSION USING PYTHON**"
      ]
    },
    {
      "cell_type": "code",
      "metadata": {
        "id": "QLwLzykFHoiZ",
        "outputId": "5a6a3170-79ab-41f4-9765-e3201278127d"
      },
      "source": [
        "## CALCULATING COEFFICIENTS c0 and c1\n",
        "\n",
        "mean_in = np.mean(X)\n",
        "mean_out = np.mean(Y)\n",
        "num = 0\n",
        "dnm = 0\n",
        "for i in range(len(X)):\n",
        "    num = num+((X[i] - mean_in) * (Y[i] - mean_out))\n",
        "    dnm = dnm+((X[i] - mean_in) ** 2)\n",
        "c1 = num / dnm\n",
        "c0 = mean_out - (c1 * mean_in)\n",
        "\n",
        "print(\"Coefficients are {},{}\".format(c1, c0))\n"
      ],
      "execution_count": null,
      "outputs": [
        {
          "output_type": "stream",
          "text": [
            "Coefficients are [0.26342934],[325.57342105]\n"
          ],
          "name": "stdout"
        }
      ]
    },
    {
      "cell_type": "code",
      "metadata": {
        "id": "Y3qdJLxjHoid",
        "outputId": "f143b14b-7235-4804-a54c-399098078356"
      },
      "source": [
        "# CALCULATING PREDICTION AND THE R2 SCORE\n",
        "\n",
        "t = 0\n",
        "r = 0\n",
        "for i in range(len(X)):\n",
        "    prediction = c0 + c1 * X[i]\n",
        "    t = t+(Y[i] - mean_out) ** 2\n",
        "    r = r+(Y[i] - prediction) ** 2\n",
        "r2 = 1 - (r/t)\n",
        "print(\"The R2 Score using Python is{}\".format(r2))\n"
      ],
      "execution_count": null,
      "outputs": [
        {
          "output_type": "stream",
          "text": [
            "The R2 Score using Python is[0.63931172]\n"
          ],
          "name": "stdout"
        }
      ]
    },
    {
      "cell_type": "code",
      "metadata": {
        "id": "baCgNYMxHoig",
        "outputId": "4f6a814f-5229-40b8-cbdf-1b1da09ca294"
      },
      "source": [
        "## PLOTTING\n",
        "\n",
        "import matplotlib.pyplot as plt\n",
        "x = np.linspace(np.min(X), np.max(X))\n",
        "y = c0 + c1 * x\n",
        "plt.plot(x, y, color='b', label='Regression Line')\n",
        "plt.scatter(X, Y, c='r', label='Scatter Plot')\n",
        "plt.xlabel('Head Size')\n",
        "plt.ylabel('Brain Weight')"
      ],
      "execution_count": null,
      "outputs": [
        {
          "output_type": "execute_result",
          "data": {
            "text/plain": [
              "Text(0, 0.5, 'Brain Weight')"
            ]
          },
          "metadata": {
            "tags": []
          },
          "execution_count": 25
        },
        {
          "output_type": "display_data",
          "data": {
            "image/png": "[encoded data removed]",
            "text/plain": [
              "<Figure size 432x288 with 1 Axes>"
            ]
          },
          "metadata": {
            "tags": [],
            "needs_background": "light"
          }
        }
      ]
    },
    {
      "cell_type": "markdown",
      "metadata": {
        "id": "uUAgg-G_Hoil"
      },
      "source": [
        "### **COMPARISION OF LINEAR REGRESSION USING SKLEARN AND LINEAR REGRESSION USING PYTHON:**\n",
        "\n",
        "In both the cases we get the same R2 score, hence Simple Linear Regression works equally well for both the cases\n",
        "\n"
      ]
    },
    {
      "cell_type": "code",
      "metadata": {
        "id": "8n7-2UcmHoim"
      },
      "source": [
        ""
      ],
      "execution_count": null,
      "outputs": []
    }
  ]
}